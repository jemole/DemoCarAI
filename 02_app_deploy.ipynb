{
  "nbformat": 4,
  "nbformat_minor": 0,
  "metadata": {
    "colab": {
      "name": "02_app_deploy.ipynb",
      "provenance": [],
      "collapsed_sections": []
    },
    "kernelspec": {
      "name": "python3",
      "display_name": "Python 3"
    },
    "language_info": {
      "name": "python"
    },
    "widgets": {
      "application/vnd.jupyter.widget-state+json": {
        "4fde9b6a8cdd435abd88465d430dba7d": {
          "model_module": "@jupyter-widgets/controls",
          "model_name": "VBoxModel",
          "model_module_version": "1.5.0",
          "state": {
            "_view_name": "VBoxView",
            "_dom_classes": [],
            "_model_name": "VBoxModel",
            "_view_module": "@jupyter-widgets/controls",
            "_model_module_version": "1.5.0",
            "_view_count": null,
            "_view_module_version": "1.5.0",
            "box_style": "",
            "layout": "IPY_MODEL_65907a3cce5140e6b8866b6d74baee08",
            "_model_module": "@jupyter-widgets/controls",
            "children": [
              "IPY_MODEL_d82c5aa82f814d9f911038714764d79a",
              "IPY_MODEL_875d2f064ee04f099d0157f23b37f586",
              "IPY_MODEL_9cf099680e8f48f5b897b965950c60fd",
              "IPY_MODEL_7b4d9c66bc9f4a279125ced63be0e37c",
              "IPY_MODEL_0939039bb21c4460bd3f108be8ffd162"
            ]
          }
        },
        "65907a3cce5140e6b8866b6d74baee08": {
          "model_module": "@jupyter-widgets/base",
          "model_name": "LayoutModel",
          "model_module_version": "1.2.0",
          "state": {
            "_view_name": "LayoutView",
            "grid_template_rows": null,
            "right": null,
            "justify_content": null,
            "_view_module": "@jupyter-widgets/base",
            "overflow": null,
            "_model_module_version": "1.2.0",
            "_view_count": null,
            "flex_flow": null,
            "width": null,
            "min_width": null,
            "border": null,
            "align_items": null,
            "bottom": null,
            "_model_module": "@jupyter-widgets/base",
            "top": null,
            "grid_column": null,
            "overflow_y": null,
            "overflow_x": null,
            "grid_auto_flow": null,
            "grid_area": null,
            "grid_template_columns": null,
            "flex": null,
            "_model_name": "LayoutModel",
            "justify_items": null,
            "grid_row": null,
            "max_height": null,
            "align_content": null,
            "visibility": null,
            "align_self": null,
            "height": null,
            "min_height": null,
            "padding": null,
            "grid_auto_rows": null,
            "grid_gap": null,
            "max_width": null,
            "order": null,
            "_view_module_version": "1.2.0",
            "grid_template_areas": null,
            "object_position": null,
            "object_fit": null,
            "grid_auto_columns": null,
            "margin": null,
            "display": null,
            "left": null
          }
        },
        "d82c5aa82f814d9f911038714764d79a": {
          "model_module": "@jupyter-widgets/controls",
          "model_name": "LabelModel",
          "model_module_version": "1.5.0",
          "state": {
            "_view_name": "LabelView",
            "style": "IPY_MODEL_6eb75a4423fe4dcdaeb49629ea8dd176",
            "_dom_classes": [],
            "description": "",
            "_model_name": "LabelModel",
            "placeholder": "​",
            "_view_module": "@jupyter-widgets/controls",
            "_model_module_version": "1.5.0",
            "value": "Select your car!",
            "_view_count": null,
            "_view_module_version": "1.5.0",
            "description_tooltip": null,
            "_model_module": "@jupyter-widgets/controls",
            "layout": "IPY_MODEL_fee4f455cfc249ab89bb175eed25f0cc"
          }
        },
        "875d2f064ee04f099d0157f23b37f586": {
          "model_module": "@jupyter-widgets/controls",
          "model_name": "FileUploadModel",
          "model_module_version": "1.5.0",
          "state": {
            "_view_name": "FileUploadView",
            "_counter": 2,
            "style": "IPY_MODEL_276a9992a1044912a8394ebb46c5c1ab",
            "_dom_classes": [],
            "description": "Upload",
            "multiple": false,
            "_model_name": "FileUploadModel",
            "data": [
              null
            ],
            "button_style": "",
            "_view_module": "@jupyter-widgets/controls",
            "_model_module_version": "1.5.0",
            "accept": "",
            "_view_count": null,
            "disabled": false,
            "_view_module_version": "1.5.0",
            "error": "",
            "description_tooltip": null,
            "metadata": [
              {
                "name": "1366_2000.jfif",
                "type": "image/jpeg",
                "size": 262790,
                "lastModified": 1645176316010
              }
            ],
            "_model_module": "@jupyter-widgets/controls",
            "layout": "IPY_MODEL_bdd92dd4e30a4698b7e95cb87af61b87",
            "icon": "upload"
          }
        },
        "9cf099680e8f48f5b897b965950c60fd": {
          "model_module": "@jupyter-widgets/controls",
          "model_name": "ButtonModel",
          "model_module_version": "1.5.0",
          "state": {
            "_view_name": "ButtonView",
            "style": "IPY_MODEL_50d5c2529ab64d21b243e404ff85e254",
            "_dom_classes": [],
            "description": "Classify",
            "_model_name": "ButtonModel",
            "button_style": "",
            "_view_module": "@jupyter-widgets/controls",
            "_model_module_version": "1.5.0",
            "tooltip": "",
            "_view_count": null,
            "disabled": false,
            "_view_module_version": "1.5.0",
            "layout": "IPY_MODEL_cd0ffb1c920f44a380260599d67dab52",
            "_model_module": "@jupyter-widgets/controls",
            "icon": ""
          }
        },
        "7b4d9c66bc9f4a279125ced63be0e37c": {
          "model_module": "@jupyter-widgets/output",
          "model_name": "OutputModel",
          "model_module_version": "1.0.0",
          "state": {
            "_view_name": "OutputView",
            "msg_id": "",
            "_dom_classes": [],
            "_model_name": "OutputModel",
            "outputs": [
              {
                "output_type": "display_data",
                "data": {
                  "image/png": "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\n",
                  "text/plain": "<PIL.Image.Image image mode=RGB size=128x72 at 0x7FB2D7A86990>"
                },
                "metadata": {}
              }
            ],
            "_view_module": "@jupyter-widgets/output",
            "_model_module_version": "1.0.0",
            "_view_count": null,
            "_view_module_version": "1.0.0",
            "layout": "IPY_MODEL_239081f37c854b988da81dfe3ac99b7f",
            "_model_module": "@jupyter-widgets/output"
          }
        },
        "0939039bb21c4460bd3f108be8ffd162": {
          "model_module": "@jupyter-widgets/controls",
          "model_name": "LabelModel",
          "model_module_version": "1.5.0",
          "state": {
            "_view_name": "LabelView",
            "style": "IPY_MODEL_7f1038724edc4e98805642f99c7504e1",
            "_dom_classes": [],
            "description": "",
            "_model_name": "LabelModel",
            "placeholder": "​",
            "_view_module": "@jupyter-widgets/controls",
            "_model_module_version": "1.5.0",
            "value": "Prediction: f1; Probability: 1.0000",
            "_view_count": null,
            "_view_module_version": "1.5.0",
            "description_tooltip": null,
            "_model_module": "@jupyter-widgets/controls",
            "layout": "IPY_MODEL_ca1841e396bd4aaebd87983b3f6187ff"
          }
        },
        "6eb75a4423fe4dcdaeb49629ea8dd176": {
          "model_module": "@jupyter-widgets/controls",
          "model_name": "DescriptionStyleModel",
          "model_module_version": "1.5.0",
          "state": {
            "_view_name": "StyleView",
            "_model_name": "DescriptionStyleModel",
            "description_width": "",
            "_view_module": "@jupyter-widgets/base",
            "_model_module_version": "1.5.0",
            "_view_count": null,
            "_view_module_version": "1.2.0",
            "_model_module": "@jupyter-widgets/controls"
          }
        },
        "fee4f455cfc249ab89bb175eed25f0cc": {
          "model_module": "@jupyter-widgets/base",
          "model_name": "LayoutModel",
          "model_module_version": "1.2.0",
          "state": {
            "_view_name": "LayoutView",
            "grid_template_rows": null,
            "right": null,
            "justify_content": null,
            "_view_module": "@jupyter-widgets/base",
            "overflow": null,
            "_model_module_version": "1.2.0",
            "_view_count": null,
            "flex_flow": null,
            "width": null,
            "min_width": null,
            "border": null,
            "align_items": null,
            "bottom": null,
            "_model_module": "@jupyter-widgets/base",
            "top": null,
            "grid_column": null,
            "overflow_y": null,
            "overflow_x": null,
            "grid_auto_flow": null,
            "grid_area": null,
            "grid_template_columns": null,
            "flex": null,
            "_model_name": "LayoutModel",
            "justify_items": null,
            "grid_row": null,
            "max_height": null,
            "align_content": null,
            "visibility": null,
            "align_self": null,
            "height": null,
            "min_height": null,
            "padding": null,
            "grid_auto_rows": null,
            "grid_gap": null,
            "max_width": null,
            "order": null,
            "_view_module_version": "1.2.0",
            "grid_template_areas": null,
            "object_position": null,
            "object_fit": null,
            "grid_auto_columns": null,
            "margin": null,
            "display": null,
            "left": null
          }
        },
        "276a9992a1044912a8394ebb46c5c1ab": {
          "model_module": "@jupyter-widgets/controls",
          "model_name": "ButtonStyleModel",
          "model_module_version": "1.5.0",
          "state": {
            "_view_name": "StyleView",
            "_model_name": "ButtonStyleModel",
            "_view_module": "@jupyter-widgets/base",
            "_model_module_version": "1.5.0",
            "_view_count": null,
            "button_color": null,
            "font_weight": "",
            "_view_module_version": "1.2.0",
            "_model_module": "@jupyter-widgets/controls"
          }
        },
        "bdd92dd4e30a4698b7e95cb87af61b87": {
          "model_module": "@jupyter-widgets/base",
          "model_name": "LayoutModel",
          "model_module_version": "1.2.0",
          "state": {
            "_view_name": "LayoutView",
            "grid_template_rows": null,
            "right": null,
            "justify_content": null,
            "_view_module": "@jupyter-widgets/base",
            "overflow": null,
            "_model_module_version": "1.2.0",
            "_view_count": null,
            "flex_flow": null,
            "width": null,
            "min_width": null,
            "border": null,
            "align_items": null,
            "bottom": null,
            "_model_module": "@jupyter-widgets/base",
            "top": null,
            "grid_column": null,
            "overflow_y": null,
            "overflow_x": null,
            "grid_auto_flow": null,
            "grid_area": null,
            "grid_template_columns": null,
            "flex": null,
            "_model_name": "LayoutModel",
            "justify_items": null,
            "grid_row": null,
            "max_height": null,
            "align_content": null,
            "visibility": null,
            "align_self": null,
            "height": null,
            "min_height": null,
            "padding": null,
            "grid_auto_rows": null,
            "grid_gap": null,
            "max_width": null,
            "order": null,
            "_view_module_version": "1.2.0",
            "grid_template_areas": null,
            "object_position": null,
            "object_fit": null,
            "grid_auto_columns": null,
            "margin": null,
            "display": null,
            "left": null
          }
        },
        "50d5c2529ab64d21b243e404ff85e254": {
          "model_module": "@jupyter-widgets/controls",
          "model_name": "ButtonStyleModel",
          "model_module_version": "1.5.0",
          "state": {
            "_view_name": "StyleView",
            "_model_name": "ButtonStyleModel",
            "_view_module": "@jupyter-widgets/base",
            "_model_module_version": "1.5.0",
            "_view_count": null,
            "button_color": null,
            "font_weight": "",
            "_view_module_version": "1.2.0",
            "_model_module": "@jupyter-widgets/controls"
          }
        },
        "cd0ffb1c920f44a380260599d67dab52": {
          "model_module": "@jupyter-widgets/base",
          "model_name": "LayoutModel",
          "model_module_version": "1.2.0",
          "state": {
            "_view_name": "LayoutView",
            "grid_template_rows": null,
            "right": null,
            "justify_content": null,
            "_view_module": "@jupyter-widgets/base",
            "overflow": null,
            "_model_module_version": "1.2.0",
            "_view_count": null,
            "flex_flow": null,
            "width": null,
            "min_width": null,
            "border": null,
            "align_items": null,
            "bottom": null,
            "_model_module": "@jupyter-widgets/base",
            "top": null,
            "grid_column": null,
            "overflow_y": null,
            "overflow_x": null,
            "grid_auto_flow": null,
            "grid_area": null,
            "grid_template_columns": null,
            "flex": null,
            "_model_name": "LayoutModel",
            "justify_items": null,
            "grid_row": null,
            "max_height": null,
            "align_content": null,
            "visibility": null,
            "align_self": null,
            "height": null,
            "min_height": null,
            "padding": null,
            "grid_auto_rows": null,
            "grid_gap": null,
            "max_width": null,
            "order": null,
            "_view_module_version": "1.2.0",
            "grid_template_areas": null,
            "object_position": null,
            "object_fit": null,
            "grid_auto_columns": null,
            "margin": null,
            "display": null,
            "left": null
          }
        },
        "7f1038724edc4e98805642f99c7504e1": {
          "model_module": "@jupyter-widgets/controls",
          "model_name": "DescriptionStyleModel",
          "model_module_version": "1.5.0",
          "state": {
            "_view_name": "StyleView",
            "_model_name": "DescriptionStyleModel",
            "description_width": "",
            "_view_module": "@jupyter-widgets/base",
            "_model_module_version": "1.5.0",
            "_view_count": null,
            "_view_module_version": "1.2.0",
            "_model_module": "@jupyter-widgets/controls"
          }
        },
        "ca1841e396bd4aaebd87983b3f6187ff": {
          "model_module": "@jupyter-widgets/base",
          "model_name": "LayoutModel",
          "model_module_version": "1.2.0",
          "state": {
            "_view_name": "LayoutView",
            "grid_template_rows": null,
            "right": null,
            "justify_content": null,
            "_view_module": "@jupyter-widgets/base",
            "overflow": null,
            "_model_module_version": "1.2.0",
            "_view_count": null,
            "flex_flow": null,
            "width": null,
            "min_width": null,
            "border": null,
            "align_items": null,
            "bottom": null,
            "_model_module": "@jupyter-widgets/base",
            "top": null,
            "grid_column": null,
            "overflow_y": null,
            "overflow_x": null,
            "grid_auto_flow": null,
            "grid_area": null,
            "grid_template_columns": null,
            "flex": null,
            "_model_name": "LayoutModel",
            "justify_items": null,
            "grid_row": null,
            "max_height": null,
            "align_content": null,
            "visibility": null,
            "align_self": null,
            "height": null,
            "min_height": null,
            "padding": null,
            "grid_auto_rows": null,
            "grid_gap": null,
            "max_width": null,
            "order": null,
            "_view_module_version": "1.2.0",
            "grid_template_areas": null,
            "object_position": null,
            "object_fit": null,
            "grid_auto_columns": null,
            "margin": null,
            "display": null,
            "left": null
          }
        },
        "239081f37c854b988da81dfe3ac99b7f": {
          "model_module": "@jupyter-widgets/base",
          "model_name": "LayoutModel",
          "model_module_version": "1.2.0",
          "state": {
            "_view_name": "LayoutView",
            "grid_template_rows": null,
            "right": null,
            "justify_content": null,
            "_view_module": "@jupyter-widgets/base",
            "overflow": null,
            "_model_module_version": "1.2.0",
            "_view_count": null,
            "flex_flow": null,
            "width": null,
            "min_width": null,
            "border": null,
            "align_items": null,
            "bottom": null,
            "_model_module": "@jupyter-widgets/base",
            "top": null,
            "grid_column": null,
            "overflow_y": null,
            "overflow_x": null,
            "grid_auto_flow": null,
            "grid_area": null,
            "grid_template_columns": null,
            "flex": null,
            "_model_name": "LayoutModel",
            "justify_items": null,
            "grid_row": null,
            "max_height": null,
            "align_content": null,
            "visibility": null,
            "align_self": null,
            "height": null,
            "min_height": null,
            "padding": null,
            "grid_auto_rows": null,
            "grid_gap": null,
            "max_width": null,
            "order": null,
            "_view_module_version": "1.2.0",
            "grid_template_areas": null,
            "object_position": null,
            "object_fit": null,
            "grid_auto_columns": null,
            "margin": null,
            "display": null,
            "left": null
          }
        }
      }
    }
  },
  "cells": [
    {
      "cell_type": "code",
      "execution_count": 1,
      "metadata": {
        "colab": {
          "base_uri": "https://localhost:8080/"
        },
        "id": "BNzvSLLOyJpL",
        "outputId": "5df5b148-16e4-40a7-bf41-63f9d99fce85"
      },
      "outputs": [
        {
          "output_type": "stream",
          "name": "stdout",
          "text": [
            "\u001b[K     |████████████████████████████████| 720 kB 5.0 MB/s \n",
            "\u001b[K     |████████████████████████████████| 1.2 MB 42.4 MB/s \n",
            "\u001b[K     |████████████████████████████████| 189 kB 52.3 MB/s \n",
            "\u001b[K     |████████████████████████████████| 48 kB 2.7 MB/s \n",
            "\u001b[K     |████████████████████████████████| 56 kB 4.3 MB/s \n",
            "\u001b[K     |████████████████████████████████| 558 kB 44.7 MB/s \n",
            "\u001b[K     |████████████████████████████████| 51 kB 264 kB/s \n",
            "\u001b[K     |████████████████████████████████| 130 kB 44.0 MB/s \n",
            "\u001b[?25hCollecting fastai==2.5\n",
            "  Downloading fastai-2.5.0-py3-none-any.whl (188 kB)\n",
            "\u001b[K     |████████████████████████████████| 188 kB 5.1 MB/s \n",
            "\u001b[?25hRequirement already satisfied: fastcore<1.4,>=1.3.8 in /usr/local/lib/python3.7/dist-packages (from fastai==2.5) (1.3.27)\n",
            "Requirement already satisfied: torchvision>=0.8.2 in /usr/local/lib/python3.7/dist-packages (from fastai==2.5) (0.11.1+cu111)\n",
            "Collecting torch<1.10,>=1.7.0\n",
            "  Downloading torch-1.9.1-cp37-cp37m-manylinux1_x86_64.whl (831.4 MB)\n",
            "\u001b[K     |████████████████████████████████| 831.4 MB 6.7 kB/s \n",
            "\u001b[?25hRequirement already satisfied: requests in /usr/local/lib/python3.7/dist-packages (from fastai==2.5) (2.23.0)\n",
            "Requirement already satisfied: scikit-learn in /usr/local/lib/python3.7/dist-packages (from fastai==2.5) (1.0.2)\n",
            "Requirement already satisfied: packaging in /usr/local/lib/python3.7/dist-packages (from fastai==2.5) (21.3)\n",
            "Requirement already satisfied: fastprogress>=0.2.4 in /usr/local/lib/python3.7/dist-packages (from fastai==2.5) (1.0.0)\n",
            "Requirement already satisfied: pandas in /usr/local/lib/python3.7/dist-packages (from fastai==2.5) (1.3.5)\n",
            "Requirement already satisfied: spacy<4 in /usr/local/lib/python3.7/dist-packages (from fastai==2.5) (2.2.4)\n",
            "Requirement already satisfied: pillow>6.0.0 in /usr/local/lib/python3.7/dist-packages (from fastai==2.5) (7.1.2)\n",
            "Requirement already satisfied: scipy in /usr/local/lib/python3.7/dist-packages (from fastai==2.5) (1.4.1)\n",
            "Requirement already satisfied: pyyaml in /usr/local/lib/python3.7/dist-packages (from fastai==2.5) (3.13)\n",
            "Requirement already satisfied: pip in /usr/local/lib/python3.7/dist-packages (from fastai==2.5) (21.1.3)\n",
            "Requirement already satisfied: fastdownload in /usr/local/lib/python3.7/dist-packages (from fastai==2.5) (0.0.5)\n",
            "Requirement already satisfied: matplotlib in /usr/local/lib/python3.7/dist-packages (from fastai==2.5) (3.2.2)\n",
            "Requirement already satisfied: numpy in /usr/local/lib/python3.7/dist-packages (from fastprogress>=0.2.4->fastai==2.5) (1.21.5)\n",
            "Requirement already satisfied: cymem<2.1.0,>=2.0.2 in /usr/local/lib/python3.7/dist-packages (from spacy<4->fastai==2.5) (2.0.6)\n",
            "Requirement already satisfied: thinc==7.4.0 in /usr/local/lib/python3.7/dist-packages (from spacy<4->fastai==2.5) (7.4.0)\n",
            "Requirement already satisfied: setuptools in /usr/local/lib/python3.7/dist-packages (from spacy<4->fastai==2.5) (57.4.0)\n",
            "Requirement already satisfied: preshed<3.1.0,>=3.0.2 in /usr/local/lib/python3.7/dist-packages (from spacy<4->fastai==2.5) (3.0.6)\n",
            "Requirement already satisfied: srsly<1.1.0,>=1.0.2 in /usr/local/lib/python3.7/dist-packages (from spacy<4->fastai==2.5) (1.0.5)\n",
            "Requirement already satisfied: murmurhash<1.1.0,>=0.28.0 in /usr/local/lib/python3.7/dist-packages (from spacy<4->fastai==2.5) (1.0.6)\n",
            "Requirement already satisfied: wasabi<1.1.0,>=0.4.0 in /usr/local/lib/python3.7/dist-packages (from spacy<4->fastai==2.5) (0.9.0)\n",
            "Requirement already satisfied: blis<0.5.0,>=0.4.0 in /usr/local/lib/python3.7/dist-packages (from spacy<4->fastai==2.5) (0.4.1)\n",
            "Requirement already satisfied: plac<1.2.0,>=0.9.6 in /usr/local/lib/python3.7/dist-packages (from spacy<4->fastai==2.5) (1.1.3)\n",
            "Requirement already satisfied: tqdm<5.0.0,>=4.38.0 in /usr/local/lib/python3.7/dist-packages (from spacy<4->fastai==2.5) (4.62.3)\n",
            "Requirement already satisfied: catalogue<1.1.0,>=0.0.7 in /usr/local/lib/python3.7/dist-packages (from spacy<4->fastai==2.5) (1.0.0)\n",
            "Requirement already satisfied: importlib-metadata>=0.20 in /usr/local/lib/python3.7/dist-packages (from catalogue<1.1.0,>=0.0.7->spacy<4->fastai==2.5) (4.11.0)\n",
            "Requirement already satisfied: zipp>=0.5 in /usr/local/lib/python3.7/dist-packages (from importlib-metadata>=0.20->catalogue<1.1.0,>=0.0.7->spacy<4->fastai==2.5) (3.7.0)\n",
            "Requirement already satisfied: typing-extensions>=3.6.4 in /usr/local/lib/python3.7/dist-packages (from importlib-metadata>=0.20->catalogue<1.1.0,>=0.0.7->spacy<4->fastai==2.5) (3.10.0.2)\n",
            "Requirement already satisfied: chardet<4,>=3.0.2 in /usr/local/lib/python3.7/dist-packages (from requests->fastai==2.5) (3.0.4)\n",
            "Requirement already satisfied: idna<3,>=2.5 in /usr/local/lib/python3.7/dist-packages (from requests->fastai==2.5) (2.10)\n",
            "Requirement already satisfied: certifi>=2017.4.17 in /usr/local/lib/python3.7/dist-packages (from requests->fastai==2.5) (2021.10.8)\n",
            "Requirement already satisfied: urllib3!=1.25.0,!=1.25.1,<1.26,>=1.21.1 in /usr/local/lib/python3.7/dist-packages (from requests->fastai==2.5) (1.24.3)\n",
            "Collecting torchvision>=0.8.2\n",
            "  Downloading torchvision-0.11.3-cp37-cp37m-manylinux1_x86_64.whl (23.2 MB)\n",
            "\u001b[K     |████████████████████████████████| 23.2 MB 1.2 MB/s \n",
            "\u001b[?25h  Downloading torchvision-0.11.2-cp37-cp37m-manylinux1_x86_64.whl (23.3 MB)\n",
            "\u001b[K     |████████████████████████████████| 23.3 MB 1.3 MB/s \n",
            "\u001b[?25h  Downloading torchvision-0.11.1-cp37-cp37m-manylinux1_x86_64.whl (23.3 MB)\n",
            "\u001b[K     |████████████████████████████████| 23.3 MB 1.3 MB/s \n",
            "\u001b[?25h  Downloading torchvision-0.10.1-cp37-cp37m-manylinux1_x86_64.whl (22.1 MB)\n",
            "\u001b[K     |████████████████████████████████| 22.1 MB 1.7 MB/s \n",
            "\u001b[?25hRequirement already satisfied: cycler>=0.10 in /usr/local/lib/python3.7/dist-packages (from matplotlib->fastai==2.5) (0.11.0)\n",
            "Requirement already satisfied: pyparsing!=2.0.4,!=2.1.2,!=2.1.6,>=2.0.1 in /usr/local/lib/python3.7/dist-packages (from matplotlib->fastai==2.5) (3.0.7)\n",
            "Requirement already satisfied: kiwisolver>=1.0.1 in /usr/local/lib/python3.7/dist-packages (from matplotlib->fastai==2.5) (1.3.2)\n",
            "Requirement already satisfied: python-dateutil>=2.1 in /usr/local/lib/python3.7/dist-packages (from matplotlib->fastai==2.5) (2.8.2)\n",
            "Requirement already satisfied: six>=1.5 in /usr/local/lib/python3.7/dist-packages (from python-dateutil>=2.1->matplotlib->fastai==2.5) (1.15.0)\n",
            "Requirement already satisfied: pytz>=2017.3 in /usr/local/lib/python3.7/dist-packages (from pandas->fastai==2.5) (2018.9)\n",
            "Requirement already satisfied: threadpoolctl>=2.0.0 in /usr/local/lib/python3.7/dist-packages (from scikit-learn->fastai==2.5) (3.1.0)\n",
            "Requirement already satisfied: joblib>=0.11 in /usr/local/lib/python3.7/dist-packages (from scikit-learn->fastai==2.5) (1.1.0)\n",
            "Installing collected packages: torch, torchvision, fastai\n",
            "  Attempting uninstall: torch\n",
            "    Found existing installation: torch 1.10.0+cu111\n",
            "    Uninstalling torch-1.10.0+cu111:\n",
            "      Successfully uninstalled torch-1.10.0+cu111\n",
            "  Attempting uninstall: torchvision\n",
            "    Found existing installation: torchvision 0.11.1+cu111\n",
            "    Uninstalling torchvision-0.11.1+cu111:\n",
            "      Successfully uninstalled torchvision-0.11.1+cu111\n",
            "  Attempting uninstall: fastai\n",
            "    Found existing installation: fastai 2.5.3\n",
            "    Uninstalling fastai-2.5.3:\n",
            "      Successfully uninstalled fastai-2.5.3\n",
            "\u001b[31mERROR: pip's dependency resolver does not currently take into account all the packages that are installed. This behaviour is the source of the following dependency conflicts.\n",
            "torchtext 0.11.0 requires torch==1.10.0, but you have torch 1.9.1 which is incompatible.\n",
            "torchaudio 0.10.0+cu111 requires torch==1.10.0, but you have torch 1.9.1 which is incompatible.\u001b[0m\n",
            "Successfully installed fastai-2.5.0 torch-1.9.1 torchvision-0.10.1\n",
            "Mounted at /content/gdrive\n"
          ]
        }
      ],
      "source": [
        "#hide\n",
        "#!pip install -Uqq fastbook\n",
        "#!pip install fastai==2.5\n",
        "#import fastbook\n",
        "#fastbook.setup_book()"
      ]
    },
    {
      "cell_type": "code",
      "source": [
        "#hide\n",
        "from fastai.vision.all import *\n",
        "from fastai.vision.widgets import *\n"
      ],
      "metadata": {
        "id": "Fi-GCi9Cyfxt"
      },
      "execution_count": 3,
      "outputs": []
    },
    {
      "cell_type": "code",
      "source": [
        "#hide\n",
        "!pip install voila\n",
        "!jupyter serverextension enable --sys-prefix voila "
      ],
      "metadata": {
        "colab": {
          "base_uri": "https://localhost:8080/"
        },
        "id": "tWpqhbJqyNoY",
        "outputId": "a373a676-5a4b-4c5b-c8d0-5d35c1ae771f"
      },
      "execution_count": 1,
      "outputs": [
        {
          "output_type": "stream",
          "name": "stdout",
          "text": [
            "Requirement already satisfied: voila in /usr/local/lib/python3.7/dist-packages (0.3.1)\n",
            "Requirement already satisfied: websockets>=9.0 in /usr/local/lib/python3.7/dist-packages (from voila) (10.1)\n",
            "Requirement already satisfied: traitlets<6,>=5.0.3 in /usr/local/lib/python3.7/dist-packages (from voila) (5.1.1)\n",
            "Requirement already satisfied: jupyter-server<2.0.0,>=0.3.0 in /usr/local/lib/python3.7/dist-packages (from voila) (1.13.5)\n",
            "Requirement already satisfied: jupyter-client<8,>=6.1.3 in /usr/local/lib/python3.7/dist-packages (from voila) (7.1.2)\n",
            "Requirement already satisfied: nbconvert<7,>=6.0.0 in /usr/local/lib/python3.7/dist-packages (from voila) (6.4.2)\n",
            "Requirement already satisfied: nbclient<0.6,>=0.4.0 in /usr/local/lib/python3.7/dist-packages (from voila) (0.5.10)\n",
            "Requirement already satisfied: jupyter-core>=4.6.0 in /usr/local/lib/python3.7/dist-packages (from jupyter-client<8,>=6.1.3->voila) (4.9.1)\n",
            "Requirement already satisfied: python-dateutil>=2.1 in /usr/local/lib/python3.7/dist-packages (from jupyter-client<8,>=6.1.3->voila) (2.8.2)\n",
            "Requirement already satisfied: entrypoints in /usr/local/lib/python3.7/dist-packages (from jupyter-client<8,>=6.1.3->voila) (0.4)\n",
            "Requirement already satisfied: tornado>=4.1 in /usr/local/lib/python3.7/dist-packages (from jupyter-client<8,>=6.1.3->voila) (6.1)\n",
            "Requirement already satisfied: pyzmq>=13 in /usr/local/lib/python3.7/dist-packages (from jupyter-client<8,>=6.1.3->voila) (22.3.0)\n",
            "Requirement already satisfied: nest-asyncio>=1.5 in /usr/local/lib/python3.7/dist-packages (from jupyter-client<8,>=6.1.3->voila) (1.5.4)\n",
            "Requirement already satisfied: jinja2 in /usr/local/lib/python3.7/dist-packages (from jupyter-server<2.0.0,>=0.3.0->voila) (2.11.3)\n",
            "Requirement already satisfied: nbformat in /usr/local/lib/python3.7/dist-packages (from jupyter-server<2.0.0,>=0.3.0->voila) (5.1.3)\n",
            "Requirement already satisfied: Send2Trash in /usr/local/lib/python3.7/dist-packages (from jupyter-server<2.0.0,>=0.3.0->voila) (1.8.0)\n",
            "Requirement already satisfied: prometheus-client in /usr/local/lib/python3.7/dist-packages (from jupyter-server<2.0.0,>=0.3.0->voila) (0.13.1)\n",
            "Requirement already satisfied: argon2-cffi in /usr/local/lib/python3.7/dist-packages (from jupyter-server<2.0.0,>=0.3.0->voila) (21.3.0)\n",
            "Requirement already satisfied: ipython-genutils in /usr/local/lib/python3.7/dist-packages (from jupyter-server<2.0.0,>=0.3.0->voila) (0.2.0)\n",
            "Requirement already satisfied: packaging in /usr/local/lib/python3.7/dist-packages (from jupyter-server<2.0.0,>=0.3.0->voila) (21.3)\n",
            "Requirement already satisfied: anyio<4,>=3.1.0 in /usr/local/lib/python3.7/dist-packages (from jupyter-server<2.0.0,>=0.3.0->voila) (3.5.0)\n",
            "Requirement already satisfied: terminado>=0.8.3 in /usr/local/lib/python3.7/dist-packages (from jupyter-server<2.0.0,>=0.3.0->voila) (0.13.1)\n",
            "Requirement already satisfied: websocket-client in /usr/local/lib/python3.7/dist-packages (from jupyter-server<2.0.0,>=0.3.0->voila) (1.2.3)\n",
            "Requirement already satisfied: idna>=2.8 in /usr/local/lib/python3.7/dist-packages (from anyio<4,>=3.1.0->jupyter-server<2.0.0,>=0.3.0->voila) (2.10)\n",
            "Requirement already satisfied: sniffio>=1.1 in /usr/local/lib/python3.7/dist-packages (from anyio<4,>=3.1.0->jupyter-server<2.0.0,>=0.3.0->voila) (1.2.0)\n",
            "Requirement already satisfied: typing-extensions in /usr/local/lib/python3.7/dist-packages (from anyio<4,>=3.1.0->jupyter-server<2.0.0,>=0.3.0->voila) (3.10.0.2)\n",
            "Requirement already satisfied: pandocfilters>=1.4.1 in /usr/local/lib/python3.7/dist-packages (from nbconvert<7,>=6.0.0->voila) (1.5.0)\n",
            "Requirement already satisfied: jupyterlab-pygments in /usr/local/lib/python3.7/dist-packages (from nbconvert<7,>=6.0.0->voila) (0.1.2)\n",
            "Requirement already satisfied: testpath in /usr/local/lib/python3.7/dist-packages (from nbconvert<7,>=6.0.0->voila) (0.5.0)\n",
            "Requirement already satisfied: defusedxml in /usr/local/lib/python3.7/dist-packages (from nbconvert<7,>=6.0.0->voila) (0.7.1)\n",
            "Requirement already satisfied: mistune<2,>=0.8.1 in /usr/local/lib/python3.7/dist-packages (from nbconvert<7,>=6.0.0->voila) (0.8.4)\n",
            "Requirement already satisfied: bleach in /usr/local/lib/python3.7/dist-packages (from nbconvert<7,>=6.0.0->voila) (4.1.0)\n",
            "Requirement already satisfied: pygments>=2.4.1 in /usr/local/lib/python3.7/dist-packages (from nbconvert<7,>=6.0.0->voila) (2.6.1)\n",
            "Requirement already satisfied: MarkupSafe>=0.23 in /usr/local/lib/python3.7/dist-packages (from jinja2->jupyter-server<2.0.0,>=0.3.0->voila) (2.0.1)\n",
            "Requirement already satisfied: jsonschema!=2.5.0,>=2.4 in /usr/local/lib/python3.7/dist-packages (from nbformat->jupyter-server<2.0.0,>=0.3.0->voila) (4.3.3)\n",
            "Requirement already satisfied: importlib-metadata in /usr/local/lib/python3.7/dist-packages (from jsonschema!=2.5.0,>=2.4->nbformat->jupyter-server<2.0.0,>=0.3.0->voila) (4.11.0)\n",
            "Requirement already satisfied: pyrsistent!=0.17.0,!=0.17.1,!=0.17.2,>=0.14.0 in /usr/local/lib/python3.7/dist-packages (from jsonschema!=2.5.0,>=2.4->nbformat->jupyter-server<2.0.0,>=0.3.0->voila) (0.18.1)\n",
            "Requirement already satisfied: attrs>=17.4.0 in /usr/local/lib/python3.7/dist-packages (from jsonschema!=2.5.0,>=2.4->nbformat->jupyter-server<2.0.0,>=0.3.0->voila) (21.4.0)\n",
            "Requirement already satisfied: importlib-resources>=1.4.0 in /usr/local/lib/python3.7/dist-packages (from jsonschema!=2.5.0,>=2.4->nbformat->jupyter-server<2.0.0,>=0.3.0->voila) (5.4.0)\n",
            "Requirement already satisfied: zipp>=3.1.0 in /usr/local/lib/python3.7/dist-packages (from importlib-resources>=1.4.0->jsonschema!=2.5.0,>=2.4->nbformat->jupyter-server<2.0.0,>=0.3.0->voila) (3.7.0)\n",
            "Requirement already satisfied: six>=1.5 in /usr/local/lib/python3.7/dist-packages (from python-dateutil>=2.1->jupyter-client<8,>=6.1.3->voila) (1.15.0)\n",
            "Requirement already satisfied: ptyprocess in /usr/local/lib/python3.7/dist-packages (from terminado>=0.8.3->jupyter-server<2.0.0,>=0.3.0->voila) (0.7.0)\n",
            "Requirement already satisfied: argon2-cffi-bindings in /usr/local/lib/python3.7/dist-packages (from argon2-cffi->jupyter-server<2.0.0,>=0.3.0->voila) (21.2.0)\n",
            "Requirement already satisfied: cffi>=1.0.1 in /usr/local/lib/python3.7/dist-packages (from argon2-cffi-bindings->argon2-cffi->jupyter-server<2.0.0,>=0.3.0->voila) (1.15.0)\n",
            "Requirement already satisfied: pycparser in /usr/local/lib/python3.7/dist-packages (from cffi>=1.0.1->argon2-cffi-bindings->argon2-cffi->jupyter-server<2.0.0,>=0.3.0->voila) (2.21)\n",
            "Requirement already satisfied: webencodings in /usr/local/lib/python3.7/dist-packages (from bleach->nbconvert<7,>=6.0.0->voila) (0.5.1)\n",
            "Requirement already satisfied: pyparsing!=3.0.5,>=2.0.2 in /usr/local/lib/python3.7/dist-packages (from packaging->jupyter-server<2.0.0,>=0.3.0->voila) (3.0.7)\n",
            "Enabling: voila\n",
            "- Writing config: /usr/etc/jupyter\n",
            "    - Validating...\n",
            "Error loading server extension voila\n",
            "     \u001b[31m X\u001b[0m is voila importable?\n"
          ]
        }
      ]
    },
    {
      "cell_type": "code",
      "source": [
        "#learn_inf = load_learner('/content/gdrive/My Drive/cars.pkl')\n",
        "learn_inf = load_learner('cars.pkl')"
      ],
      "metadata": {
        "id": "-ls5HFOQyr7f"
      },
      "execution_count": 4,
      "outputs": []
    },
    {
      "cell_type": "code",
      "source": [
        "btn_upload = widgets.FileUpload()"
      ],
      "metadata": {
        "id": "4R_MjdRUyr_B"
      },
      "execution_count": 5,
      "outputs": []
    },
    {
      "cell_type": "code",
      "source": [
        "lbl_pred = widgets.Label()"
      ],
      "metadata": {
        "id": "J-oUTyzGy-RC"
      },
      "execution_count": 6,
      "outputs": []
    },
    {
      "cell_type": "code",
      "source": [
        "btn_run = widgets.Button(description='Classify')\n"
      ],
      "metadata": {
        "id": "7McINI9Cy-Tm"
      },
      "execution_count": 7,
      "outputs": []
    },
    {
      "cell_type": "code",
      "source": [
        "out_pl = widgets.Output()\n"
      ],
      "metadata": {
        "id": "QE4IH7ac0Vm8"
      },
      "execution_count": 13,
      "outputs": []
    },
    {
      "cell_type": "code",
      "source": [
        "def on_click_classify(change):\n",
        "    img = PILImage.create(btn_upload.data[-1])\n",
        "    out_pl.clear_output()\n",
        "    with out_pl: display(img.to_thumb(128,128))\n",
        "    pred,pred_idx,probs = learn_inf.predict(img)\n",
        "    lbl_pred.value = f'Prediction: {pred}; Probability: {probs[pred_idx]:.04f}'\n",
        "\n",
        "btn_run.on_click(on_click_classify)"
      ],
      "metadata": {
        "id": "WyhOEmEtzDTk"
      },
      "execution_count": 14,
      "outputs": []
    },
    {
      "cell_type": "markdown",
      "source": [
        "# App para clasificar coches\n",
        "Prueba con imágenes de coches de F1, 4x4 o carros (como los carros de golf, por ejemplo)."
      ],
      "metadata": {
        "id": "yjoy710e1Qmd"
      }
    },
    {
      "cell_type": "code",
      "source": [
        "#hide_output\n",
        "VBox([widgets.Label('Select your car!'), \n",
        "      btn_upload, btn_run, out_pl, lbl_pred])"
      ],
      "metadata": {
        "colab": {
          "base_uri": "https://localhost:8080/",
          "height": 217,
          "referenced_widgets": [
            "4fde9b6a8cdd435abd88465d430dba7d",
            "65907a3cce5140e6b8866b6d74baee08",
            "d82c5aa82f814d9f911038714764d79a",
            "875d2f064ee04f099d0157f23b37f586",
            "9cf099680e8f48f5b897b965950c60fd",
            "7b4d9c66bc9f4a279125ced63be0e37c",
            "0939039bb21c4460bd3f108be8ffd162",
            "6eb75a4423fe4dcdaeb49629ea8dd176",
            "fee4f455cfc249ab89bb175eed25f0cc",
            "276a9992a1044912a8394ebb46c5c1ab",
            "bdd92dd4e30a4698b7e95cb87af61b87",
            "50d5c2529ab64d21b243e404ff85e254",
            "cd0ffb1c920f44a380260599d67dab52",
            "7f1038724edc4e98805642f99c7504e1",
            "ca1841e396bd4aaebd87983b3f6187ff",
            "239081f37c854b988da81dfe3ac99b7f"
          ]
        },
        "id": "s3kFXYExzDX3",
        "outputId": "10059f08-eff2-442d-9e34-f96e0ebc361e"
      },
      "execution_count": 15,
      "outputs": [
        {
          "output_type": "display_data",
          "data": {
            "application/vnd.jupyter.widget-view+json": {
              "model_id": "4fde9b6a8cdd435abd88465d430dba7d",
              "version_minor": 0,
              "version_major": 2
            },
            "text/plain": [
              "VBox(children=(Label(value='Select your car!'), FileUpload(value={'1366_2000.jfif': {'metadata': {'lastModifie…"
            ]
          },
          "metadata": {}
        },
        {
          "output_type": "display_data",
          "data": {
            "text/html": [
              ""
            ],
            "text/plain": [
              "<IPython.core.display.HTML object>"
            ]
          },
          "metadata": {}
        },
        {
          "output_type": "display_data",
          "data": {
            "text/html": [
              ""
            ],
            "text/plain": [
              "<IPython.core.display.HTML object>"
            ]
          },
          "metadata": {}
        },
        {
          "output_type": "display_data",
          "data": {
            "text/html": [
              ""
            ],
            "text/plain": [
              "<IPython.core.display.HTML object>"
            ]
          },
          "metadata": {}
        }
      ]
    },
    {
      "cell_type": "code",
      "source": [
        ""
      ],
      "metadata": {
        "id": "j8aKFsyazDaO"
      },
      "execution_count": null,
      "outputs": []
    },
    {
      "cell_type": "code",
      "source": [
        ""
      ],
      "metadata": {
        "id": "z5EvTCMhzDcf"
      },
      "execution_count": null,
      "outputs": []
    },
    {
      "cell_type": "code",
      "source": [
        ""
      ],
      "metadata": {
        "id": "Mx2zxLM9zDfc"
      },
      "execution_count": null,
      "outputs": []
    },
    {
      "cell_type": "code",
      "source": [
        ""
      ],
      "metadata": {
        "id": "F4QaqeJ5y-Wk"
      },
      "execution_count": null,
      "outputs": []
    }
  ]
}
